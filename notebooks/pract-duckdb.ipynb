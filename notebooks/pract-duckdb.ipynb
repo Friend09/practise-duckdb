{
 "cells": [
  {
   "cell_type": "markdown",
   "metadata": {},
   "source": [
    "# PRACTISE DUCKDB"
   ]
  },
  {
   "cell_type": "markdown",
   "metadata": {},
   "source": [
    "## SETUP & CONFIGURATION"
   ]
  },
  {
   "cell_type": "code",
   "execution_count": 45,
   "metadata": {},
   "outputs": [
    {
     "data": {
      "text/html": [
       "<div>\n",
       "<style scoped>\n",
       "    .dataframe tbody tr th:only-of-type {\n",
       "        vertical-align: middle;\n",
       "    }\n",
       "\n",
       "    .dataframe tbody tr th {\n",
       "        vertical-align: top;\n",
       "    }\n",
       "\n",
       "    .dataframe thead th {\n",
       "        text-align: right;\n",
       "    }\n",
       "</style>\n",
       "<table border=\"1\" class=\"dataframe\">\n",
       "  <thead>\n",
       "    <tr style=\"text-align: right;\">\n",
       "      <th></th>\n",
       "      <th>name</th>\n",
       "      <th>value</th>\n",
       "      <th>description</th>\n",
       "      <th>input_type</th>\n",
       "      <th>scope</th>\n",
       "    </tr>\n",
       "  </thead>\n",
       "  <tbody>\n",
       "    <tr>\n",
       "      <th>0</th>\n",
       "      <td>access_mode</td>\n",
       "      <td>automatic</td>\n",
       "      <td>Access mode of the database (AUTOMATIC, READ_O...</td>\n",
       "      <td>VARCHAR</td>\n",
       "      <td>GLOBAL</td>\n",
       "    </tr>\n",
       "    <tr>\n",
       "      <th>1</th>\n",
       "      <td>allow_persistent_secrets</td>\n",
       "      <td>true</td>\n",
       "      <td>Allow the creation of persistent secrets, that...</td>\n",
       "      <td>BOOLEAN</td>\n",
       "      <td>GLOBAL</td>\n",
       "    </tr>\n",
       "    <tr>\n",
       "      <th>2</th>\n",
       "      <td>checkpoint_threshold</td>\n",
       "      <td>16.0 MiB</td>\n",
       "      <td>The WAL size threshold at which to automatical...</td>\n",
       "      <td>VARCHAR</td>\n",
       "      <td>GLOBAL</td>\n",
       "    </tr>\n",
       "    <tr>\n",
       "      <th>3</th>\n",
       "      <td>debug_checkpoint_abort</td>\n",
       "      <td>none</td>\n",
       "      <td>DEBUG SETTING: trigger an abort while checkpoi...</td>\n",
       "      <td>VARCHAR</td>\n",
       "      <td>GLOBAL</td>\n",
       "    </tr>\n",
       "    <tr>\n",
       "      <th>4</th>\n",
       "      <td>storage_compatibility_version</td>\n",
       "      <td>v0.10.2</td>\n",
       "      <td>Serialize on checkpoint with compatibility for...</td>\n",
       "      <td>VARCHAR</td>\n",
       "      <td>GLOBAL</td>\n",
       "    </tr>\n",
       "  </tbody>\n",
       "</table>\n",
       "</div>"
      ],
      "text/plain": [
       "                            name      value  \\\n",
       "0                    access_mode  automatic   \n",
       "1       allow_persistent_secrets       true   \n",
       "2           checkpoint_threshold   16.0 MiB   \n",
       "3         debug_checkpoint_abort       none   \n",
       "4  storage_compatibility_version    v0.10.2   \n",
       "\n",
       "                                         description input_type   scope  \n",
       "0  Access mode of the database (AUTOMATIC, READ_O...    VARCHAR  GLOBAL  \n",
       "1  Allow the creation of persistent secrets, that...    BOOLEAN  GLOBAL  \n",
       "2  The WAL size threshold at which to automatical...    VARCHAR  GLOBAL  \n",
       "3  DEBUG SETTING: trigger an abort while checkpoi...    VARCHAR  GLOBAL  \n",
       "4  Serialize on checkpoint with compatibility for...    VARCHAR  GLOBAL  "
      ]
     },
     "execution_count": 45,
     "metadata": {},
     "output_type": "execute_result"
    }
   ],
   "source": [
    "import duckdb\n",
    "\n",
    "# create duckdb settings dataframe\n",
    "df = duckdb.sql(\"select * from duckdb_settings();\").to_df()\n",
    "df.head()"
   ]
  },
  {
   "cell_type": "markdown",
   "metadata": {},
   "source": [
    "## QUICK START"
   ]
  },
  {
   "cell_type": "code",
   "execution_count": 2,
   "metadata": {},
   "outputs": [],
   "source": [
    "import duckdb\n",
    "\n",
    "connection = duckdb.connect()"
   ]
  },
  {
   "cell_type": "code",
   "execution_count": 6,
   "metadata": {},
   "outputs": [
    {
     "data": {
      "text/plain": [
       "┌──────────┐\n",
       "│ (42 * 8) │\n",
       "│  int32   │\n",
       "├──────────┤\n",
       "│      336 │\n",
       "└──────────┘"
      ]
     },
     "execution_count": 6,
     "metadata": {},
     "output_type": "execute_result"
    }
   ],
   "source": [
    "# check how the output is shown\n",
    "duckdb.sql(\"SELECT 42*8\")"
   ]
  },
  {
   "cell_type": "code",
   "execution_count": 11,
   "metadata": {},
   "outputs": [
    {
     "name": "stdout",
     "output_type": "stream",
     "text": [
      "42\n",
      "[(42,)]\n"
     ]
    }
   ],
   "source": [
    "results = duckdb.sql(\"SELECT 42\").fetchall()\n",
    "print(results[0][0])\n",
    "print(results)"
   ]
  },
  {
   "cell_type": "code",
   "execution_count": 15,
   "metadata": {},
   "outputs": [
    {
     "data": {
      "text/html": [
       "<div>\n",
       "<style scoped>\n",
       "    .dataframe tbody tr th:only-of-type {\n",
       "        vertical-align: middle;\n",
       "    }\n",
       "\n",
       "    .dataframe tbody tr th {\n",
       "        vertical-align: top;\n",
       "    }\n",
       "\n",
       "    .dataframe thead th {\n",
       "        text-align: right;\n",
       "    }\n",
       "</style>\n",
       "<table border=\"1\" class=\"dataframe\">\n",
       "  <thead>\n",
       "    <tr style=\"text-align: right;\">\n",
       "      <th></th>\n",
       "      <th>42</th>\n",
       "    </tr>\n",
       "  </thead>\n",
       "  <tbody>\n",
       "    <tr>\n",
       "      <th>0</th>\n",
       "      <td>42</td>\n",
       "    </tr>\n",
       "  </tbody>\n",
       "</table>\n",
       "</div>"
      ],
      "text/plain": [
       "   42\n",
       "0  42"
      ]
     },
     "execution_count": 15,
     "metadata": {},
     "output_type": "execute_result"
    }
   ],
   "source": [
    "df = duckdb.sql(\"select 42\").df()\n",
    "df"
   ]
  },
  {
   "cell_type": "code",
   "execution_count": null,
   "metadata": {},
   "outputs": [],
   "source": []
  },
  {
   "cell_type": "markdown",
   "metadata": {},
   "source": [
    "## PRACTISE"
   ]
  },
  {
   "cell_type": "code",
   "execution_count": 2,
   "metadata": {},
   "outputs": [],
   "source": [
    "import duckdb\n",
    "import pandas as pd\n",
    "\n",
    "df = pd.read_csv(\"../data/currency_rate_local.csv\")"
   ]
  },
  {
   "cell_type": "code",
   "execution_count": 4,
   "metadata": {},
   "outputs": [
    {
     "data": {
      "text/html": [
       "<div>\n",
       "<style scoped>\n",
       "    .dataframe tbody tr th:only-of-type {\n",
       "        vertical-align: middle;\n",
       "    }\n",
       "\n",
       "    .dataframe tbody tr th {\n",
       "        vertical-align: top;\n",
       "    }\n",
       "\n",
       "    .dataframe thead th {\n",
       "        text-align: right;\n",
       "    }\n",
       "</style>\n",
       "<table border=\"1\" class=\"dataframe\">\n",
       "  <thead>\n",
       "    <tr style=\"text-align: right;\">\n",
       "      <th></th>\n",
       "      <th>timestamp</th>\n",
       "      <th>currency_code</th>\n",
       "      <th>exchange_rate</th>\n",
       "    </tr>\n",
       "  </thead>\n",
       "  <tbody>\n",
       "    <tr>\n",
       "      <th>0</th>\n",
       "      <td>1690156800</td>\n",
       "      <td>EUR</td>\n",
       "      <td>0.914923</td>\n",
       "    </tr>\n",
       "    <tr>\n",
       "      <th>1</th>\n",
       "      <td>1690156800</td>\n",
       "      <td>GBP</td>\n",
       "      <td>0.782291</td>\n",
       "    </tr>\n",
       "    <tr>\n",
       "      <th>2</th>\n",
       "      <td>1690156800</td>\n",
       "      <td>INR</td>\n",
       "      <td>82.109338</td>\n",
       "    </tr>\n",
       "    <tr>\n",
       "      <th>3</th>\n",
       "      <td>1690156800</td>\n",
       "      <td>AUD</td>\n",
       "      <td>1.471667</td>\n",
       "    </tr>\n",
       "    <tr>\n",
       "      <th>4</th>\n",
       "      <td>1690156800</td>\n",
       "      <td>CAD</td>\n",
       "      <td>1.321980</td>\n",
       "    </tr>\n",
       "  </tbody>\n",
       "</table>\n",
       "</div>"
      ],
      "text/plain": [
       "    timestamp currency_code  exchange_rate\n",
       "0  1690156800           EUR       0.914923\n",
       "1  1690156800           GBP       0.782291\n",
       "2  1690156800           INR      82.109338\n",
       "3  1690156800           AUD       1.471667\n",
       "4  1690156800           CAD       1.321980"
      ]
     },
     "execution_count": 4,
     "metadata": {},
     "output_type": "execute_result"
    }
   ],
   "source": [
    "df.head()"
   ]
  },
  {
   "cell_type": "code",
   "execution_count": 8,
   "metadata": {},
   "outputs": [
    {
     "data": {
      "text/plain": [
       "┌────────────┬───────────────┬───────────────┐\n",
       "│ timestamp  │ currency_code │ exchange_rate │\n",
       "│   int64    │    varchar    │    double     │\n",
       "├────────────┼───────────────┼───────────────┤\n",
       "│ 1690156800 │ EUR           │      0.914923 │\n",
       "└────────────┴───────────────┴───────────────┘"
      ]
     },
     "execution_count": 8,
     "metadata": {},
     "output_type": "execute_result"
    }
   ],
   "source": [
    "duckdb.filter(df, \"currency_code='EUR'\")"
   ]
  },
  {
   "cell_type": "code",
   "execution_count": null,
   "metadata": {},
   "outputs": [],
   "source": []
  },
  {
   "cell_type": "code",
   "execution_count": null,
   "metadata": {},
   "outputs": [],
   "source": []
  },
  {
   "cell_type": "code",
   "execution_count": null,
   "metadata": {},
   "outputs": [],
   "source": []
  },
  {
   "cell_type": "markdown",
   "metadata": {},
   "source": [
    "## PYTHON API"
   ]
  },
  {
   "cell_type": "markdown",
   "metadata": {},
   "source": [
    "[python api for duckdb](https://duckdb.org/docs/api/python/overview)"
   ]
  },
  {
   "cell_type": "markdown",
   "metadata": {},
   "source": [
    "### IN MEMORY STORAGE"
   ]
  },
  {
   "cell_type": "code",
   "execution_count": 13,
   "metadata": {},
   "outputs": [
    {
     "data": {
      "text/plain": [
       "┌─────────────────┬──────────────────────┬──────────────────────┬───┬────────────┬──────────────┬──────────────────────┐\n",
       "│   ref_number    │       title_en       │       title_fr       │ … │ user_votes │  owner_org   │   owner_org_title    │\n",
       "│     varchar     │       varchar        │       varchar        │   │   int64    │   varchar    │       varchar        │\n",
       "├─────────────────┼──────────────────────┼──────────────────────┼───┼────────────┼──────────────┼──────────────────────┤\n",
       "│ OD-2017-00001   │ Proactive Disclosu…  │ Divulgation proact…  │ … │        372 │ atssc-scdata │ Administrative Tri…  │\n",
       "│ OD-2017-00002   │ Proactive Disclosu…  │ Divulgation proact…  │ … │        319 │ atssc-scdata │ Administrative Tri…  │\n",
       "│ OD-2017-00003   │ Proactive Disclosu…  │ Divulgation proact…  │ … │        366 │ atssc-scdata │ Administrative Tri…  │\n",
       "│ OD-2017-00004   │ Disclosure of Posi…  │ Divulgation des re…  │ … │        351 │ atssc-scdata │ Administrative Tri…  │\n",
       "│ OD-2017-00005   │ Completed Access t…  │ Demandes d’accès à…  │ … │        361 │ atssc-scdata │ Administrative Tri…  │\n",
       "│ 22-Planning-242 │ 2021-22 Management…  │ Cadre d’évaluation…  │ … │          2 │ atssc-scdata │ Administrative Tri…  │\n",
       "│ 22-FIN-111      │ Financial Statemen…  │ États financiers 2…  │ … │          0 │ atssc-scdata │ Administrative Tri…  │\n",
       "│ NULL            │ CPP&EI audit - MRL…  │ Vérification CPP&E…  │ … │          0 │ atssc-scdata │ Administrative Tri…  │\n",
       "│ 22-FIN-133      │ CIRB Annual Traini…  │ Séminaire annuel s…  │ … │          0 │ atssc-scdata │ Administrative Tri…  │\n",
       "│ 22-HR-154       │  Briefing note on …  │ Note d’information…  │ … │          0 │ atssc-scdata │ Administrative Tri…  │\n",
       "│     ·           │          ·           │          ·           │ · │          · │    ·         │          ·           │\n",
       "│     ·           │          ·           │          ·           │ · │          · │    ·         │          ·           │\n",
       "│     ·           │          ·           │          ·           │ · │          · │    ·         │          ·           │\n",
       "│ OD-2016-05396   │ Families and House…  │ Familles et ménage…  │ … │          3 │ statcan      │ Statistics Canada …  │\n",
       "│ OD-2016-05397   │ Census Profile - A…  │ Profil du recensem…  │ … │          2 │ statcan      │ Statistics Canada …  │\n",
       "│ OD-2016-05398   │ Mode of Transporta…  │ Mode de transport …  │ … │          2 │ statcan      │ Statistics Canada …  │\n",
       "│ OD-2016-05399   │ Historical Labour …  │ Activité historiqu…  │ … │          1 │ statcan      │ Statistics Canada …  │\n",
       "│ OD-2016-05400   │ Household Income G…  │ Tranches de revenu…  │ … │          2 │ statcan      │ Statistics Canada …  │\n",
       "│ OD-2016-05401   │ Age Group of Child…  │ Groupe d'âge de l'…  │ … │          3 │ statcan      │ Statistics Canada …  │\n",
       "│ OD-2016-05402   │ Household Type (4)…  │ Genre de ménage (4…  │ … │          3 │ statcan      │ Statistics Canada …  │\n",
       "│ OD-2016-05403   │ Mother Tongue (8),…  │ Langue maternelle …  │ … │          2 │ statcan      │ Statistics Canada …  │\n",
       "│ OD-2016-05404   │ Profile of Labour …  │ Profil - Activités…  │ … │          3 │ statcan      │ Statistics Canada …  │\n",
       "│ OD-2016-05405   │ Families and House…  │ Familles et ménage…  │ … │          2 │ statcan      │ Statistics Canada …  │\n",
       "├─────────────────┴──────────────────────┴──────────────────────┴───┴────────────┴──────────────┴──────────────────────┤\n",
       "│ ? rows (>9999 rows, 20 shown)                                                                   19 columns (6 shown) │\n",
       "└──────────────────────────────────────────────────────────────────────────────────────────────────────────────────────┘"
      ]
     },
     "execution_count": 13,
     "metadata": {},
     "output_type": "execute_result"
    }
   ],
   "source": [
    "# use this for in memory (data is only for that session)\n",
    "import duckdb\n",
    "\n",
    "con = duckdb.connect(\":memory:\")\n",
    "con.sql(\"SELECT * FROM '../data/inventory.csv'\")"
   ]
  },
  {
   "cell_type": "code",
   "execution_count": 25,
   "metadata": {},
   "outputs": [
    {
     "data": {
      "text/plain": [
       "┌───────────────┬──────────────────────┬──────────────────────┬───┬────────────┬──────────────┬──────────────────────┐\n",
       "│  ref_number   │       title_en       │       title_fr       │ … │ user_votes │  owner_org   │   owner_org_title    │\n",
       "│    varchar    │       varchar        │       varchar        │   │   int64    │   varchar    │       varchar        │\n",
       "├───────────────┼──────────────────────┼──────────────────────┼───┼────────────┼──────────────┼──────────────────────┤\n",
       "│ OD-2017-00001 │ Proactive Disclosu…  │ Divulgation proact…  │ … │        372 │ atssc-scdata │ Administrative Tri…  │\n",
       "│ OD-2017-00002 │ Proactive Disclosu…  │ Divulgation proact…  │ … │        319 │ atssc-scdata │ Administrative Tri…  │\n",
       "│ OD-2017-00003 │ Proactive Disclosu…  │ Divulgation proact…  │ … │        366 │ atssc-scdata │ Administrative Tri…  │\n",
       "│ OD-2017-00004 │ Disclosure of Posi…  │ Divulgation des re…  │ … │        351 │ atssc-scdata │ Administrative Tri…  │\n",
       "│ OD-2017-00005 │ Completed Access t…  │ Demandes d’accès à…  │ … │        361 │ atssc-scdata │ Administrative Tri…  │\n",
       "├───────────────┴──────────────────────┴──────────────────────┴───┴────────────┴──────────────┴──────────────────────┤\n",
       "│ 5 rows                                                                                        19 columns (6 shown) │\n",
       "└────────────────────────────────────────────────────────────────────────────────────────────────────────────────────┘"
      ]
     },
     "execution_count": 25,
     "metadata": {},
     "output_type": "execute_result"
    }
   ],
   "source": [
    "# in-memory storage\n",
    "import duckdb\n",
    "\n",
    "con = duckdb.connect()\n",
    "con.sql(\"SELECT * FROM '../data/inventory.csv' LIMIT 5\")"
   ]
  },
  {
   "cell_type": "code",
   "execution_count": 26,
   "metadata": {},
   "outputs": [
    {
     "data": {
      "text/plain": [
       "┌───────────────┐\n",
       "│  ref_number   │\n",
       "│    varchar    │\n",
       "├───────────────┤\n",
       "│ OD-2017-00001 │\n",
       "│ OD-2017-00002 │\n",
       "│ OD-2017-00003 │\n",
       "│ OD-2017-00004 │\n",
       "│ OD-2017-00005 │\n",
       "└───────────────┘"
      ]
     },
     "execution_count": 26,
     "metadata": {},
     "output_type": "execute_result"
    }
   ],
   "source": [
    "con.sql(\"SELECT ref_number FROM '../data/inventory.csv' LIMIT 5\")"
   ]
  },
  {
   "cell_type": "markdown",
   "metadata": {},
   "source": [
    "### PERSISTANT STORAGE"
   ]
  },
  {
   "cell_type": "code",
   "execution_count": 14,
   "metadata": {},
   "outputs": [],
   "source": [
    "# create a database\n",
    "import duckdb\n",
    "\n",
    "con = duckdb.connect(\"../data/inventory.db\")\n",
    "con.sql(\"SELECT * FROM '../data/inventory.csv'\")\n",
    "con.close()"
   ]
  },
  {
   "cell_type": "code",
   "execution_count": 15,
   "metadata": {},
   "outputs": [],
   "source": [
    "config = {\"access_mode\": \"READ_ONLY\"}"
   ]
  },
  {
   "cell_type": "code",
   "execution_count": 21,
   "metadata": {},
   "outputs": [],
   "source": [
    "# load data into the database\n",
    "\n",
    "# Establishing connection\n",
    "con = duckdb.connect(\n",
    "    \"../data/inventory.db\",\n",
    "    # config=config,\n",
    ")\n",
    "\n",
    "con.sql(\"CREATE TABLE tbl_inventory AS SELECT * FROM '../data/inventory.csv'\")"
   ]
  },
  {
   "cell_type": "code",
   "execution_count": 22,
   "metadata": {},
   "outputs": [],
   "source": [
    "con.close()"
   ]
  },
  {
   "cell_type": "markdown",
   "metadata": {},
   "source": [
    "### POLARS"
   ]
  },
  {
   "cell_type": "code",
   "execution_count": 68,
   "metadata": {},
   "outputs": [
    {
     "data": {
      "text/html": [
       "<div><style>\n",
       ".dataframe > thead > tr,\n",
       ".dataframe > tbody > tr {\n",
       "  text-align: right;\n",
       "  white-space: pre-wrap;\n",
       "}\n",
       "</style>\n",
       "<small>shape: (5, 19)</small><table border=\"1\" class=\"dataframe\"><thead><tr><th>ref_number</th><th>title_en</th><th>title_fr</th><th>description_en</th><th>description_fr</th><th>publisher_en</th><th>publisher_fr</th><th>date_published</th><th>language</th><th>size</th><th>eligible_for_release</th><th>program_alignment_architecture_en</th><th>program_alignment_architecture_fr</th><th>date_released</th><th>portal_url_en</th><th>portal_url_fr</th><th>user_votes</th><th>owner_org</th><th>owner_org_title</th></tr><tr><td>str</td><td>str</td><td>str</td><td>str</td><td>str</td><td>str</td><td>str</td><td>str</td><td>str</td><td>i64</td><td>str</td><td>str</td><td>str</td><td>str</td><td>str</td><td>str</td><td>i64</td><td>str</td><td>str</td></tr></thead><tbody><tr><td>&quot;OD-2017-00001&quot;</td><td>&quot;Proactive Disclosure of Travel…</td><td>&quot;Divulgation proactive des frai…</td><td>&quot;This data provides information…</td><td>&quot;Ce données fournissent des ren…</td><td>&quot;ATSSC&quot;</td><td>&quot;SCDATA&quot;</td><td>&quot;2014-11-01&quot;</td><td>&quot;en+fr&quot;</td><td>null</td><td>&quot;Y&quot;</td><td>&quot;1.1 Program: Tribunal Speciali…</td><td>&quot;Services de soutien spécialisé…</td><td>null</td><td>null</td><td>null</td><td>372</td><td>&quot;atssc-scdata&quot;</td><td>&quot;Administrative Tribunals Suppo…</td></tr><tr><td>&quot;OD-2017-00002&quot;</td><td>&quot;Proactive Disclosure of Hospit…</td><td>&quot;Divulgation proactive des frai…</td><td>&quot;This data provides information…</td><td>&quot;Ce données fournissent des ren…</td><td>&quot;ATSSC&quot;</td><td>&quot;SCDATA&quot;</td><td>&quot;2014-11-01&quot;</td><td>&quot;en+fr&quot;</td><td>null</td><td>&quot;Y&quot;</td><td>&quot;1.1 Program: Tribunal Speciali…</td><td>&quot;Services de soutien spécialisé…</td><td>null</td><td>null</td><td>null</td><td>319</td><td>&quot;atssc-scdata&quot;</td><td>&quot;Administrative Tribunals Suppo…</td></tr><tr><td>&quot;OD-2017-00003&quot;</td><td>&quot;Proactive Disclosure of Contra…</td><td>&quot;Divulgation proactive des marc…</td><td>&quot;This data provides information…</td><td>&quot;Ces données fournissent des re…</td><td>&quot;ATSSC&quot;</td><td>&quot;SCDATA&quot;</td><td>&quot;2014-11-01&quot;</td><td>&quot;en+fr&quot;</td><td>null</td><td>&quot;Y&quot;</td><td>&quot;1.1 Program: Tribunal Speciali…</td><td>&quot;Services de soutien spécialisé…</td><td>null</td><td>null</td><td>null</td><td>366</td><td>&quot;atssc-scdata&quot;</td><td>&quot;Administrative Tribunals Suppo…</td></tr><tr><td>&quot;OD-2017-00004&quot;</td><td>&quot;Disclosure of Position Reclass…</td><td>&quot;Divulgation des reclassificati…</td><td>&quot;This data provides information…</td><td>&quot;Ces données  fournissent des r…</td><td>&quot;ATSSC&quot;</td><td>&quot;SCDATA&quot;</td><td>&quot;2014-11-01&quot;</td><td>&quot;en+fr&quot;</td><td>null</td><td>&quot;Y&quot;</td><td>&quot;1.1 Program: Tribunal Speciali…</td><td>&quot;Services de soutien spécialisé…</td><td>null</td><td>null</td><td>null</td><td>351</td><td>&quot;atssc-scdata&quot;</td><td>&quot;Administrative Tribunals Suppo…</td></tr><tr><td>&quot;OD-2017-00005&quot;</td><td>&quot;Completed Access to Informatio…</td><td>&quot;Demandes d’accès à l’informati…</td><td>&quot;This data provides information…</td><td>&quot;Ces données  fournissent des r…</td><td>&quot;ATSSC&quot;</td><td>&quot;SCDATA&quot;</td><td>&quot;2014-11-01&quot;</td><td>&quot;en+fr&quot;</td><td>null</td><td>&quot;Y&quot;</td><td>&quot;1.1 Program: Tribunal Speciali…</td><td>&quot;Services de soutien spécialisé…</td><td>null</td><td>null</td><td>null</td><td>361</td><td>&quot;atssc-scdata&quot;</td><td>&quot;Administrative Tribunals Suppo…</td></tr></tbody></table></div>"
      ],
      "text/plain": [
       "shape: (5, 19)\n",
       "┌───────────┬───────────┬───────────┬───────────┬───┬───────────┬───────────┬───────────┬──────────┐\n",
       "│ ref_numbe ┆ title_en  ┆ title_fr  ┆ descripti ┆ … ┆ portal_ur ┆ user_vote ┆ owner_org ┆ owner_or │\n",
       "│ r         ┆ ---       ┆ ---       ┆ on_en     ┆   ┆ l_fr      ┆ s         ┆ ---       ┆ g_title  │\n",
       "│ ---       ┆ str       ┆ str       ┆ ---       ┆   ┆ ---       ┆ ---       ┆ str       ┆ ---      │\n",
       "│ str       ┆           ┆           ┆ str       ┆   ┆ str       ┆ i64       ┆           ┆ str      │\n",
       "╞═══════════╪═══════════╪═══════════╪═══════════╪═══╪═══════════╪═══════════╪═══════════╪══════════╡\n",
       "│ OD-2017-0 ┆ Proactive ┆ Divulgati ┆ This data ┆ … ┆ null      ┆ 372       ┆ atssc-scd ┆ Administ │\n",
       "│ 0001      ┆ Disclosur ┆ on        ┆ provides  ┆   ┆           ┆           ┆ ata       ┆ rative   │\n",
       "│           ┆ e of      ┆ proactive ┆ informati ┆   ┆           ┆           ┆           ┆ Tribunal │\n",
       "│           ┆ Travel…   ┆ des frai… ┆ on…       ┆   ┆           ┆           ┆           ┆ s Suppo… │\n",
       "│ OD-2017-0 ┆ Proactive ┆ Divulgati ┆ This data ┆ … ┆ null      ┆ 319       ┆ atssc-scd ┆ Administ │\n",
       "│ 0002      ┆ Disclosur ┆ on        ┆ provides  ┆   ┆           ┆           ┆ ata       ┆ rative   │\n",
       "│           ┆ e of      ┆ proactive ┆ informati ┆   ┆           ┆           ┆           ┆ Tribunal │\n",
       "│           ┆ Hospit…   ┆ des frai… ┆ on…       ┆   ┆           ┆           ┆           ┆ s Suppo… │\n",
       "│ OD-2017-0 ┆ Proactive ┆ Divulgati ┆ This data ┆ … ┆ null      ┆ 366       ┆ atssc-scd ┆ Administ │\n",
       "│ 0003      ┆ Disclosur ┆ on        ┆ provides  ┆   ┆           ┆           ┆ ata       ┆ rative   │\n",
       "│           ┆ e of      ┆ proactive ┆ informati ┆   ┆           ┆           ┆           ┆ Tribunal │\n",
       "│           ┆ Contra…   ┆ des marc… ┆ on…       ┆   ┆           ┆           ┆           ┆ s Suppo… │\n",
       "│ OD-2017-0 ┆ Disclosur ┆ Divulgati ┆ This data ┆ … ┆ null      ┆ 351       ┆ atssc-scd ┆ Administ │\n",
       "│ 0004      ┆ e of      ┆ on des    ┆ provides  ┆   ┆           ┆           ┆ ata       ┆ rative   │\n",
       "│           ┆ Position  ┆ reclassif ┆ informati ┆   ┆           ┆           ┆           ┆ Tribunal │\n",
       "│           ┆ Reclass…  ┆ icati…    ┆ on…       ┆   ┆           ┆           ┆           ┆ s Suppo… │\n",
       "│ OD-2017-0 ┆ Completed ┆ Demandes  ┆ This data ┆ … ┆ null      ┆ 361       ┆ atssc-scd ┆ Administ │\n",
       "│ 0005      ┆ Access to ┆ d’accès à ┆ provides  ┆   ┆           ┆           ┆ ata       ┆ rative   │\n",
       "│           ┆ Informati ┆ l’informa ┆ informati ┆   ┆           ┆           ┆           ┆ Tribunal │\n",
       "│           ┆ o…        ┆ ti…       ┆ on…       ┆   ┆           ┆           ┆           ┆ s Suppo… │\n",
       "└───────────┴───────────┴───────────┴───────────┴───┴───────────┴───────────┴───────────┴──────────┘"
      ]
     },
     "execution_count": 68,
     "metadata": {},
     "output_type": "execute_result"
    }
   ],
   "source": [
    "import polars as pl\n",
    "\n",
    "dl = pl.read_csv(\"../data/inventory.csv\")\n",
    "dl.head()"
   ]
  },
  {
   "cell_type": "code",
   "execution_count": null,
   "metadata": {},
   "outputs": [],
   "source": []
  },
  {
   "cell_type": "code",
   "execution_count": null,
   "metadata": {},
   "outputs": [],
   "source": []
  },
  {
   "cell_type": "markdown",
   "metadata": {},
   "source": [
    "## CONNECTION OBJECTS"
   ]
  }
 ],
 "metadata": {
  "kernelspec": {
   "display_name": ".venv",
   "language": "python",
   "name": "python3"
  },
  "language_info": {
   "codemirror_mode": {
    "name": "ipython",
    "version": 3
   },
   "file_extension": ".py",
   "mimetype": "text/x-python",
   "name": "python",
   "nbconvert_exporter": "python",
   "pygments_lexer": "ipython3",
   "version": "3.10.14"
  }
 },
 "nbformat": 4,
 "nbformat_minor": 2
}
