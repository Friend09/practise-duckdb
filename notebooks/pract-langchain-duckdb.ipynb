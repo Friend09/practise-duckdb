{
 "cells": [
  {
   "cell_type": "markdown",
   "metadata": {},
   "source": [
    "# LANGCHAIN W/ DUCKDB"
   ]
  },
  {
   "cell_type": "markdown",
   "metadata": {},
   "source": [
    "[original blog from medium](https://betterprogramming.pub/analyze-canadian-open-data-inventory-with-langchain-openai-and-duckdb-f747245eaf4b)"
   ]
  },
  {
   "cell_type": "markdown",
   "metadata": {},
   "source": [
    "## SETUP"
   ]
  },
  {
   "cell_type": "code",
   "execution_count": 13,
   "metadata": {},
   "outputs": [],
   "source": [
    "# load api key\n",
    "import os\n",
    "from dotenv import load_dotenv, find_dotenv\n",
    "\n",
    "_ = load_dotenv(find_dotenv())\n",
    "OPENAI_API_KEY = os.getenv(\"OPENAI_API_KEY\")"
   ]
  },
  {
   "cell_type": "markdown",
   "metadata": {},
   "source": [
    "- [initialize a database in langchain](https://python.langchain.com/v0.2/docs/integrations/tools/sql_database/#initialize-database)"
   ]
  },
  {
   "cell_type": "code",
   "execution_count": 43,
   "metadata": {},
   "outputs": [],
   "source": [
    "import duckdb\n",
    "from sqlalchemy import create_engine, Column, Integer, Sequence, String"
   ]
  },
  {
   "cell_type": "code",
   "execution_count": 3,
   "metadata": {},
   "outputs": [
    {
     "name": "stdout",
     "output_type": "stream",
     "text": [
      "1.0.0\n"
     ]
    }
   ],
   "source": [
    "print(duckdb.__version__)"
   ]
  },
  {
   "cell_type": "markdown",
   "metadata": {},
   "source": [
    "## CREATE DATABASE"
   ]
  },
  {
   "cell_type": "markdown",
   "metadata": {},
   "source": [
    "[blog](https://betterprogramming.pub/analyze-canadian-open-data-inventory-with-langchain-openai-and-duckdb-f747245eaf4b)"
   ]
  },
  {
   "cell_type": "code",
   "execution_count": 12,
   "metadata": {},
   "outputs": [],
   "source": [
    "file_path = \"/Users/vamsi_mbmax/Library/CloudStorage/OneDrive-Personal/01_vam_PROJECTS/LEARNING/proj_Databases/dev_proj_Databases/pract-duckDB/data/inventory.csv\""
   ]
  },
  {
   "cell_type": "markdown",
   "metadata": {},
   "source": [
    "- Use python approach of duckdb for below steps [loading data into mother duck]([https://](https://motherduck.com/docs/getting-started/connect-query-from-python/loading-data-into-md))\n",
    "- the below approach is by using terminal\n",
    "\n",
    "```yaml\n",
    "# create database with duckdb\n",
    "duckdb ./cdn_open_data.db\n",
    "\n",
    "# duckdb create table from downloaded csv\n",
    "D CREATE TABLE inventory as SELECT * from read_csv_auto('./inventory.csv');\n",
    "\n",
    "# santiy check \n",
    "D show tables;\n",
    "```"
   ]
  },
  {
   "cell_type": "markdown",
   "metadata": {},
   "source": [
    "## CONNECT TO DATABASE"
   ]
  },
  {
   "cell_type": "code",
   "execution_count": 4,
   "metadata": {},
   "outputs": [
    {
     "name": "stdout",
     "output_type": "stream",
     "text": [
      "/Users/vamsi_mbmax/Library/CloudStorage/OneDrive-Personal/01_vam_PROJECTS/LEARNING/proj_Databases/dev_proj_Databases/pract-duckDB/notebooks\n"
     ]
    }
   ],
   "source": [
    "!pwd"
   ]
  },
  {
   "cell_type": "code",
   "execution_count": 5,
   "metadata": {},
   "outputs": [
    {
     "data": {
      "text/plain": [
       "Engine(duckdb:////Users/vamsi_mbmax/Library/CloudStorage/OneDrive-Personal/01_vam_PROJECTS/LEARNING/proj_Databases/dev_proj_Databases/pract-duckDB/data/cdn_open_data.db)"
      ]
     },
     "execution_count": 5,
     "metadata": {},
     "output_type": "execute_result"
    }
   ],
   "source": [
    "# NOTE: dont forget to install `duckdb-engine` python package along w/ duckdb in requirements.txt\n",
    "uri = \"duckdb:////Users/vamsi_mbmax/Library/CloudStorage/OneDrive-Personal/01_vam_PROJECTS/LEARNING/proj_Databases/dev_proj_Databases/pract-duckDB/data/cdn_open_data.db\"\n",
    "connect_args = {\"read_only\": True}\n",
    "CONN = create_engine(uri) # CONN -> engine_duckdb\n",
    "CONN"
   ]
  },
  {
   "cell_type": "code",
   "execution_count": 7,
   "metadata": {},
   "outputs": [
    {
     "name": "stderr",
     "output_type": "stream",
     "text": [
      "/Users/vamsi_mbmax/Library/CloudStorage/OneDrive-Personal/01_vam_PROJECTS/LEARNING/proj_Databases/dev_proj_Databases/pract-duckDB/.venv/lib/python3.10/site-packages/duckdb_engine/__init__.py:173: DuckDBEngineWarning: duckdb-engine doesn't yet support reflection on indices\n",
      "  warnings.warn(\n"
     ]
    },
    {
     "data": {
      "text/plain": [
       "<langchain_community.utilities.sql_database.SQLDatabase at 0x111872b30>"
      ]
     },
     "execution_count": 7,
     "metadata": {},
     "output_type": "execute_result"
    }
   ],
   "source": [
    "# load database\n",
    "db = SQLDatabase.from_uri(\n",
    "    database_uri=uri,\n",
    "    include_tables=[\"inventory\"],\n",
    "    sample_rows_in_table_info=3,\n",
    ")\n",
    "\n",
    "db"
   ]
  },
  {
   "cell_type": "markdown",
   "metadata": {},
   "source": [
    "## LLM"
   ]
  },
  {
   "cell_type": "code",
   "execution_count": 45,
   "metadata": {},
   "outputs": [],
   "source": [
    "from langchain_community.agent_toolkits import create_sql_agent\n",
    "from langchain_community.agent_toolkits import SQLDatabaseToolkit\n",
    "from langchain_community.utilities import SQLDatabase\n",
    "from langchain.agents import AgentExecutor\n",
    "from langchain.agents.agent_types import AgentType\n",
    "\n",
    "from langchain_openai import ChatOpenAI\n",
    "\n",
    "# from langchain.llms import OpenAI\n",
    "from langchain import HuggingFaceHub\n",
    "from langchain.prompts import ChatPromptTemplate, PromptTemplate\n",
    "from langchain.chains import LLMChain"
   ]
  },
  {
   "cell_type": "code",
   "execution_count": 44,
   "metadata": {},
   "outputs": [],
   "source": [
    "llm_langchain = ChatOpenAI(\n",
    "    api_key=OPENAI_API_KEY,\n",
    "    temperature=0,\n",
    "    model=\"gpt-3.5-turbo\",\n",
    ")"
   ]
  },
  {
   "cell_type": "markdown",
   "metadata": {},
   "source": [
    "## DEFINE PROMPT"
   ]
  },
  {
   "cell_type": "code",
   "execution_count": null,
   "metadata": {},
   "outputs": [
    {
     "data": {
      "text/plain": [
       "ChatPromptTemplate(input_variables=['query'], messages=[HumanMessagePromptTemplate(prompt=PromptTemplate(input_variables=['query'], template='/\\nYou are a SQL Analyst that is querying a database of Canada Open Data Inventory that about all the Canada Open Data from the Government of Canada website.\\n\\nBelow is a description of the columns, data types, and information in the columns:\\n\\nThe column name ref_number with the data type VARCHAR contains the following information: Unique identifier for every open data\\nThe column name title_en with the data type VARCHAR contains the following information: English title of the open data\\nThe column name title_fr with the data type VARCHAR contains the following information: French title of the open data\\nThe column name description_en with the data type VARCHAR contains the following information: English description of the open data\\nThe column name description_fr with the data type VARCHAR contains the following information: French description of the open data\\nThe column name publisher_en with the data type VARCHAR contains the following information: Publisher name in English\\nThe column name publisher_fr with the data type VARCHAR contains the following information: Publisher name in French\\nThe column name date_published with the data type VARCHAR contains the following information: The date of this open data published\\nThe column name language with the data type VARCHAR contains the following information: What language this open data\\nThe column name size with the data type BIGINT contains the following information: The open data size\\nThe column name program_alignment_architecture_en with the data type VARCHAR contains the following information: English name of the program alignment architecture\\nThe column name program_alignment_architecture_fr with the data type VARCHAR contains the following information: French name of the program alignment architecture\\nThe column name date_released with the data type VARCHAR contains the following information: The date this open data released\\nThe column name portal_url_en with the data type VARCHAR contains the following information: English portal url\\nThe column name portal_url_fr with the data type VARCHAR contains the following information: French portal url\\nThe column name user_votes with the data type BIGINT contains the following information: The users votes count for this open data, which showing which open data are most request by the user\\nThe column name owner_org with the data type VARCHAR contains the following information: Which org divison are the owner of this open data\\nThe column name owner_org_title with the data type VARCHAR contains the following information: The org division title of the owner of this open data\\n\\nYour job is to write and execute a query that answers the following question:\\n{query}\\n'))])"
      ]
     },
     "metadata": {},
     "output_type": "display_data"
    }
   ],
   "source": [
    "template = \"\"\"/\n",
    "You are a SQL Analyst that is querying a database of Canada Open Data Inventory that about all the Canada Open Data from the Government of Canada website.\n",
    "\n",
    "Below is a description of the columns, data types, and information in the columns:\n",
    "\n",
    "The column name ref_number with the data type VARCHAR contains the following information: Unique identifier for every open data\n",
    "The column name title_en with the data type VARCHAR contains the following information: English title of the open data\n",
    "The column name title_fr with the data type VARCHAR contains the following information: French title of the open data\n",
    "The column name description_en with the data type VARCHAR contains the following information: English description of the open data\n",
    "The column name description_fr with the data type VARCHAR contains the following information: French description of the open data\n",
    "The column name publisher_en with the data type VARCHAR contains the following information: Publisher name in English\n",
    "The column name publisher_fr with the data type VARCHAR contains the following information: Publisher name in French\n",
    "The column name date_published with the data type VARCHAR contains the following information: The date of this open data published\n",
    "The column name language with the data type VARCHAR contains the following information: What language this open data\n",
    "The column name size with the data type BIGINT contains the following information: The open data size\n",
    "The column name program_alignment_architecture_en with the data type VARCHAR contains the following information: English name of the program alignment architecture\n",
    "The column name program_alignment_architecture_fr with the data type VARCHAR contains the following information: French name of the program alignment architecture\n",
    "The column name date_released with the data type VARCHAR contains the following information: The date this open data released\n",
    "The column name portal_url_en with the data type VARCHAR contains the following information: English portal url\n",
    "The column name portal_url_fr with the data type VARCHAR contains the following information: French portal url\n",
    "The column name user_votes with the data type BIGINT contains the following information: The users votes count for this open data, which showing which open data are most request by the user\n",
    "The column name owner_org with the data type VARCHAR contains the following information: Which org divison are the owner of this open data\n",
    "The column name owner_org_title with the data type VARCHAR contains the following information: The org division title of the owner of this open data\n",
    "\n",
    "Your job is to write and execute a query that answers the following question:\n",
    "{query}\n",
    "\"\"\"\n",
    "\n",
    "# prompt = PromptTemplate.from_template(template)\n",
    "prompt = ChatPromptTemplate.from_template(template)\n",
    "prompt"
   ]
  },
  {
   "cell_type": "markdown",
   "metadata": {},
   "source": [
    "## DEFINE TOOL, AGENT"
   ]
  },
  {
   "cell_type": "markdown",
   "metadata": {},
   "source": [
    "[langchain sqldatabase agent](https://python.langchain.com/v0.1/docs/integrations/toolkits/sql_database/)"
   ]
  },
  {
   "cell_type": "code",
   "execution_count": 39,
   "metadata": {},
   "outputs": [],
   "source": [
    "# use the below if need to use w/ agents\n",
    "tool_sql = SQLDatabaseToolkit(db=db, llm=llm_langchain)  # can be used w/ custom tools"
   ]
  },
  {
   "cell_type": "code",
   "execution_count": 51,
   "metadata": {},
   "outputs": [],
   "source": [
    "from langchain_community.agent_toolkits import create_sql_agent\n",
    "\n",
    "agent_sql = create_sql_agent(\n",
    "    llm=llm_langchain,\n",
    "    db=db,\n",
    "    agent_type=\"openai-tools\",\n",
    "    # verbose=True,\n",
    ")"
   ]
  },
  {
   "cell_type": "markdown",
   "metadata": {},
   "source": [
    "## START QUERY"
   ]
  },
  {
   "cell_type": "code",
   "execution_count": null,
   "metadata": {},
   "outputs": [],
   "source": [
    "agent_sql.invoke(\"What's the total open data record?\")"
   ]
  },
  {
   "cell_type": "code",
   "execution_count": null,
   "metadata": {},
   "outputs": [],
   "source": [
    "agent_sql.invoke(\"What's the most released org division title?\")"
   ]
  },
  {
   "cell_type": "code",
   "execution_count": 52,
   "metadata": {},
   "outputs": [
    {
     "data": {
      "text/plain": [
       "{'input': 'what is the most voted open date between 2000 and 2023?',\n",
       " 'output': 'The most voted open date between 2000 and 2023 is March 7, 2006, with 381 user votes.'}"
      ]
     },
     "execution_count": 52,
     "metadata": {},
     "output_type": "execute_result"
    }
   ],
   "source": [
    "agent_sql.invoke(\"what is the most voted open date between 2000 and 2023?\")"
   ]
  },
  {
   "cell_type": "code",
   "execution_count": 53,
   "metadata": {},
   "outputs": [
    {
     "data": {
      "text/plain": [
       "{'input': 'can you show me the top 10 open date in french title which have been published but never been released?',\n",
       " 'output': \"The top 10 French titles that have been published but never been released are as follows:\\n\\n1. Requêtes d'informations financières et budgétaires des missions\\n2. Adhérence au standard de service de livraison pour les requêtes de services en ligne pour les missions (SLM)\\n3. Niveau de satisfaction au service en ligne pour les missions\\n4. Liste des véhicules des services communs\\n5. Rendu de décisions pour le comité sur la représentation à l'étranger (CORA)\\n6. Biens des missions et demandes de matériel\\n7. Requêtes de transport aux missions\\n8. Mosaïque du Modèle numérique d'élévation de haute résolution (Mosaïque MNEHR) - Série CanÉlévation\\n9. Le Système national de surveillance du déboisement (SNSD)\\n10. Régions hydrogéologiques du Canada\"}"
      ]
     },
     "execution_count": 53,
     "metadata": {},
     "output_type": "execute_result"
    }
   ],
   "source": [
    "agent_sql.invoke(\n",
    "    \"can you show me the top 10 open date in french title which have been published but never been released?\"\n",
    ")"
   ]
  }
 ],
 "metadata": {
  "kernelspec": {
   "display_name": ".venv",
   "language": "python",
   "name": "python3"
  },
  "language_info": {
   "codemirror_mode": {
    "name": "ipython",
    "version": 3
   },
   "file_extension": ".py",
   "mimetype": "text/x-python",
   "name": "python",
   "nbconvert_exporter": "python",
   "pygments_lexer": "ipython3",
   "version": "3.10.15"
  }
 },
 "nbformat": 4,
 "nbformat_minor": 2
}
