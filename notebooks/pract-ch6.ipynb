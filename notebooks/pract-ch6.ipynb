{
 "cells": [
  {
   "cell_type": "markdown",
   "metadata": {},
   "source": [
    "# 6 Integrating with the Python ecosystem"
   ]
  },
  {
   "cell_type": "markdown",
   "metadata": {},
   "source": [
    "https://learning.oreilly.com/library/view/duckdb-in-action/9781633437258/Text/chapter-6.html#sigil_toc_id_79"
   ]
  },
  {
   "cell_type": "markdown",
   "metadata": {},
   "source": [
    "## SETUP"
   ]
  },
  {
   "cell_type": "code",
   "execution_count": 2,
   "metadata": {},
   "outputs": [],
   "source": [
    "import duckdb"
   ]
  },
  {
   "cell_type": "code",
   "execution_count": 3,
   "metadata": {},
   "outputs": [
    {
     "data": {
      "text/plain": [
       "'1.0.0'"
      ]
     },
     "execution_count": 3,
     "metadata": {},
     "output_type": "execute_result"
    }
   ],
   "source": [
    "duckdb.__version__"
   ]
  },
  {
   "cell_type": "markdown",
   "metadata": {},
   "source": [
    "## PRACTISE"
   ]
  },
  {
   "cell_type": "code",
   "execution_count": 7,
   "metadata": {},
   "outputs": [
    {
     "name": "stdout",
     "output_type": "stream",
     "text": [
      "┌───────┐\n",
      "│  42   │\n",
      "│ int32 │\n",
      "├───────┤\n",
      "│    42 │\n",
      "└───────┘\n",
      "\n"
     ]
    }
   ],
   "source": [
    "result = duckdb.sql(\"SELECT 42\")\n",
    "result.show()"
   ]
  },
  {
   "cell_type": "code",
   "execution_count": 12,
   "metadata": {},
   "outputs": [],
   "source": [
    "# to use a read only database file\n",
    "conn = duckdb.connect(\n",
    "    database=\"/Users/vamsi_mbmax/Library/CloudStorage/OneDrive-Personal/01_vam_PROJECTS/LEARNING/proj_Databases/dev_proj_Databases/pract-duckDB/data/cdn_open_data.db\",\n",
    "    read_only=True,\n",
    ")"
   ]
  },
  {
   "cell_type": "code",
   "execution_count": 13,
   "metadata": {},
   "outputs": [
    {
     "data": {
      "text/plain": [
       "┌───────────┐\n",
       "│   name    │\n",
       "│  varchar  │\n",
       "├───────────┤\n",
       "│ inventory │\n",
       "└───────────┘"
      ]
     },
     "execution_count": 13,
     "metadata": {},
     "output_type": "execute_result"
    }
   ],
   "source": [
    "# show all tables from conn.sql()\n",
    "conn.sql(\"show tables;\")"
   ]
  },
  {
   "cell_type": "code",
   "execution_count": 18,
   "metadata": {},
   "outputs": [
    {
     "data": {
      "text/plain": [
       "┌─────────────────┬──────────────────────┬──────────────────────┬───┬────────────┬──────────────┬──────────────────────┐\n",
       "│   ref_number    │       title_en       │       title_fr       │ … │ user_votes │  owner_org   │   owner_org_title    │\n",
       "│     varchar     │       varchar        │       varchar        │   │   int64    │   varchar    │       varchar        │\n",
       "├─────────────────┼──────────────────────┼──────────────────────┼───┼────────────┼──────────────┼──────────────────────┤\n",
       "│ OD-2017-00001   │ Proactive Disclosu…  │ Divulgation proact…  │ … │        372 │ atssc-scdata │ Administrative Tri…  │\n",
       "│ OD-2017-00002   │ Proactive Disclosu…  │ Divulgation proact…  │ … │        319 │ atssc-scdata │ Administrative Tri…  │\n",
       "│ OD-2017-00003   │ Proactive Disclosu…  │ Divulgation proact…  │ … │        366 │ atssc-scdata │ Administrative Tri…  │\n",
       "│ OD-2017-00004   │ Disclosure of Posi…  │ Divulgation des re…  │ … │        351 │ atssc-scdata │ Administrative Tri…  │\n",
       "│ OD-2017-00005   │ Completed Access t…  │ Demandes d’accès à…  │ … │        361 │ atssc-scdata │ Administrative Tri…  │\n",
       "│ 22-Planning-242 │ 2021-22 Management…  │ Cadre d’évaluation…  │ … │          2 │ atssc-scdata │ Administrative Tri…  │\n",
       "│ 22-FIN-111      │ Financial Statemen…  │ États financiers 2…  │ … │          0 │ atssc-scdata │ Administrative Tri…  │\n",
       "│ NULL            │ CPP&EI audit - MRL…  │ Vérification CPP&E…  │ … │          0 │ atssc-scdata │ Administrative Tri…  │\n",
       "│ 22-FIN-133      │ CIRB Annual Traini…  │ Séminaire annuel s…  │ … │          0 │ atssc-scdata │ Administrative Tri…  │\n",
       "│ 22-HR-154       │  Briefing note on …  │ Note d’information…  │ … │          0 │ atssc-scdata │ Administrative Tri…  │\n",
       "│     ·           │          ·           │          ·           │ · │          · │    ·         │          ·           │\n",
       "│     ·           │          ·           │          ·           │ · │          · │    ·         │          ·           │\n",
       "│     ·           │          ·           │          ·           │ · │          · │    ·         │          ·           │\n",
       "│ OD-2016-05396   │ Families and House…  │ Familles et ménage…  │ … │          3 │ statcan      │ Statistics Canada …  │\n",
       "│ OD-2016-05397   │ Census Profile - A…  │ Profil du recensem…  │ … │          2 │ statcan      │ Statistics Canada …  │\n",
       "│ OD-2016-05398   │ Mode of Transporta…  │ Mode de transport …  │ … │          2 │ statcan      │ Statistics Canada …  │\n",
       "│ OD-2016-05399   │ Historical Labour …  │ Activité historiqu…  │ … │          1 │ statcan      │ Statistics Canada …  │\n",
       "│ OD-2016-05400   │ Household Income G…  │ Tranches de revenu…  │ … │          2 │ statcan      │ Statistics Canada …  │\n",
       "│ OD-2016-05401   │ Age Group of Child…  │ Groupe d'âge de l'…  │ … │          3 │ statcan      │ Statistics Canada …  │\n",
       "│ OD-2016-05402   │ Household Type (4)…  │ Genre de ménage (4…  │ … │          3 │ statcan      │ Statistics Canada …  │\n",
       "│ OD-2016-05403   │ Mother Tongue (8),…  │ Langue maternelle …  │ … │          2 │ statcan      │ Statistics Canada …  │\n",
       "│ OD-2016-05404   │ Profile of Labour …  │ Profil - Activités…  │ … │          3 │ statcan      │ Statistics Canada …  │\n",
       "│ OD-2016-05405   │ Families and House…  │ Familles et ménage…  │ … │          2 │ statcan      │ Statistics Canada …  │\n",
       "├─────────────────┴──────────────────────┴──────────────────────┴───┴────────────┴──────────────┴──────────────────────┤\n",
       "│ ? rows (>9999 rows, 20 shown)                                                                   19 columns (6 shown) │\n",
       "└──────────────────────────────────────────────────────────────────────────────────────────────────────────────────────┘"
      ]
     },
     "execution_count": 18,
     "metadata": {},
     "output_type": "execute_result"
    }
   ],
   "source": [
    "# show top 5\n",
    "conn.sql(\"select * from inventory;\")"
   ]
  }
 ],
 "metadata": {
  "kernelspec": {
   "display_name": ".venv",
   "language": "python",
   "name": "python3"
  },
  "language_info": {
   "codemirror_mode": {
    "name": "ipython",
    "version": 3
   },
   "file_extension": ".py",
   "mimetype": "text/x-python",
   "name": "python",
   "nbconvert_exporter": "python",
   "pygments_lexer": "ipython3",
   "version": "3.10.15"
  }
 },
 "nbformat": 4,
 "nbformat_minor": 2
}
